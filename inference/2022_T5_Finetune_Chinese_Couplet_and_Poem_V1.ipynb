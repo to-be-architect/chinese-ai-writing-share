{
 "cells": [
  {
   "cell_type": "markdown",
   "metadata": {
    "colab_type": "text",
    "id": "view-in-github",
    "pycharm": {
     "name": "#%% md\n"
    }
   },
   "source": [
    "<a href=\"https://colab.research.google.com/github/hululuzhu/chinese-ai-writing-share/blob/main/inference/2022_T5_Finetune_Chinese_Couplet_and_Poem_V1.ipynb\" target=\"_parent\"><img src=\"https://colab.research.google.com/assets/colab-badge.svg\" alt=\"Open In Colab\"/></a>"
   ]
  },
  {
   "cell_type": "markdown",
   "metadata": {
    "id": "IsQADAHEdrEH",
    "pycharm": {
     "name": "#%% md\n"
    }
   },
   "source": [
    "# Inference for models trained from [T5 chinese couplet colab](https://github.com/hululuzhu/chinese-ai-writing-share/blob/main/Mengzi_T5_Finetune_Chinese_Couplet_V1.ipynb) and [T5 chinese Poem colab](https://github.com/hululuzhu/chinese-ai-writing-share/blob/main/WIP_Mengzi_T5_Finetune_Chinese_Poem_Writing_V1.ipynb)\n",
    "- Download my saved models at [couplet model link](https://drive.google.com/drive/folders/1bQb_nrHHLkDYj09P2rrX7PSvHD8h3cTx?usp=sharing) and [poem model link](https://drive.google.com/drive/folders/1ZymaSbOcwlslD5tuUIk_9__C2dUJK_UY?usp=sharing)\n",
    "- 重要：以上文件都存在Google Drive，推荐用Google账号打开，点击`Add to shortcut`，之后在你Drive的主页面`shared with me`看到目录后选择`add shortcut to Drive`，这样可以mount后本地可以操作文件，但要注意路径一致"
   ]
  },
  {
   "cell_type": "markdown",
   "metadata": {
    "id": "i_0LZLuCd0XX",
    "pycharm": {
     "name": "#%% md\n"
    }
   },
   "source": [
    "## Load package and previously trained models"
   ]
  },
  {
   "cell_type": "code",
   "execution_count": null,
   "metadata": {
    "id": "5mNUEaT_bzWu",
    "pycharm": {
     "name": "#%%\n"
    }
   },
   "outputs": [],
   "source": [
    "# Quite install simple T5 package\n",
    "!pip install -q simplet5\n",
    "!pip install -q chinese-converter\n",
    "import chinese_converter  # 繁体到简体需要"
   ]
  },
  {
   "cell_type": "code",
   "execution_count": null,
   "metadata": {
    "colab": {
     "base_uri": "https://localhost:8080/"
    },
    "id": "5rH9CaTNb-Hg",
    "outputId": "f8bc9cb9-bb55-434f-ee13-afb84cd34813",
    "pycharm": {
     "name": "#%%\n"
    }
   },
   "outputs": [
    {
     "name": "stdout",
     "output_type": "stream",
     "text": [
      "Mounted at /content/drive\n"
     ]
    }
   ],
   "source": [
    "from google.colab import drive\n",
    "drive.mount('/content/drive')"
   ]
  },
  {
   "cell_type": "code",
   "execution_count": null,
   "metadata": {
    "id": "fsQmKxtMcDof",
    "pycharm": {
     "name": "#%%\n"
    }
   },
   "outputs": [],
   "source": [
    "!mkdir -p my_t5/couplet\n",
    "!mkdir -p my_t5/poem\n",
    "# 3 epochs, 6 hours P100 16G\n",
    "!cp /content/drive/MyDrive/ML/Models/t5-couplet/simplet5-epoch-2-train-loss-3.126/* my_t5/couplet\n",
    "# 4 epochs, 8 hours P100 16G\n",
    "!cp /content/drive/MyDrive/ML/Models/t5-poem/simplet5-epoch-3-train-loss-3.597/* my_t5/poem"
   ]
  },
  {
   "cell_type": "code",
   "execution_count": null,
   "metadata": {
    "colab": {
     "base_uri": "https://localhost:8080/"
    },
    "id": "fVcInEjtccR1",
    "outputId": "193652e8-59e5-43a0-9f66-0b33e551417e",
    "pycharm": {
     "name": "#%%\n"
    }
   },
   "outputs": [
    {
     "name": "stderr",
     "output_type": "stream",
     "text": [
      "Global seed set to 42\n"
     ]
    }
   ],
   "source": [
    "import torch\n",
    "from simplet5 import SimpleT5\n",
    "from transformers import T5Tokenizer, T5ForConditionalGeneration\n",
    "\n",
    "class MengziSimpleT5(SimpleT5):\n",
    "  def __init__(self) -> None:\n",
    "    super().__init__()\n",
    "    self.device = torch.device(\"cuda\")\n",
    "\n",
    "  def load_my_model(self, local_path, use_gpu: bool = True):\n",
    "    self.tokenizer = T5Tokenizer.from_pretrained(\"Langboat/mengzi-t5-base\")\n",
    "    self.model = T5ForConditionalGeneration.from_pretrained(local_path)"
   ]
  },
  {
   "cell_type": "code",
   "execution_count": null,
   "metadata": {
    "id": "n5zWCQa0cjWc",
    "pycharm": {
     "name": "#%%\n"
    }
   },
   "outputs": [],
   "source": [
    "couplet_model = MengziSimpleT5()\n",
    "couplet_model.load_my_model(local_path='my_t5/couplet')\n",
    "couplet_model.model = couplet_model.model.to('cuda')\n",
    "\n",
    "COUPLET_PROMPOT = '对联：'\n",
    "MAX_SEQ_LEN = 32\n",
    "MAX_OUT_TOKENS = MAX_SEQ_LEN\n",
    "\n",
    "def couplet(in_str, model=couplet_model, is_input_traditional_chinese=False):\n",
    "  model.model = model.model.to('cuda')\n",
    "  in_request = f\"{COUPLET_PROMPOT}{in_str[:MAX_SEQ_LEN]}\"\n",
    "  if is_input_traditional_chinese:\n",
    "    # model only knows s chinese\n",
    "    in_request = chinese_converter.to_simplified(in_request)\n",
    "  # Note default sampling is turned off for consistent result\n",
    "  out = model.predict(in_request,\n",
    "                      max_length=MAX_OUT_TOKENS)[0].replace(\",\", \"，\")\n",
    "  if is_input_traditional_chinese:\n",
    "    out = chinese_converter.to_traditional(out)\n",
    "  print(f\"上： {in_str}\\n下： {out}\")"
   ]
  },
  {
   "cell_type": "code",
   "execution_count": null,
   "metadata": {
    "id": "5fhJdzoWBip2",
    "pycharm": {
     "name": "#%%\n"
    }
   },
   "outputs": [],
   "source": [
    "AUTHOR_PROMPT = \"模仿：\"\n",
    "TITLE_PROMPT = \"作诗：\"\n",
    "EOS_TOKEN = '</s>'\n",
    "\n",
    "poem_model = MengziSimpleT5()\n",
    "poem_model.load_my_model(local_path='my_t5/poem')\n",
    "poem_model.model = poem_model.model.to('cuda')\n",
    "MAX_AUTHOR_CHAR = 4\n",
    "MAX_TITLE_CHAR = 12\n",
    "MIN_CONTENT_CHAR = 10\n",
    "MAX_CONTENT_CHAR = 64\n",
    "\n",
    "def poem(title_str, opt_author=None, model=poem_model,\n",
    "         is_input_traditional_chinese=False):\n",
    "  model.model = model.model.to('cuda')\n",
    "  if opt_author:\n",
    "    in_request = TITLE_PROMPT + title_str[:MAX_TITLE_CHAR] + EOS_TOKEN + AUTHOR_PROMPT + opt_author[:MAX_AUTHOR_CHAR]\n",
    "  else:\n",
    "    in_request = TITLE_PROMPT + title_str[:MAX_TITLE_CHAR]\n",
    "  if is_input_traditional_chinese:\n",
    "    in_request = chinese_converter.to_simplified(in_request)\n",
    "  out = model.predict(in_request,\n",
    "                      max_length=MAX_CONTENT_CHAR)[0].replace(\",\", \"，\")\n",
    "  if is_input_traditional_chinese:\n",
    "    out = chinese_converter.to_traditional(out)\n",
    "    print(f\"標題： {in_request.replace('</s>', ' ')}\\n詩歌： {out}\")\n",
    "  else:\n",
    "    print(f\"标题： {in_request.replace('</s>', ' ')}\\n诗歌： {out}\")"
   ]
  },
  {
   "cell_type": "markdown",
   "metadata": {
    "id": "fYLkzlt4d4DM",
    "pycharm": {
     "name": "#%% md\n"
    }
   },
   "source": [
    "## Inference now\n",
    "- Note we turned off sampling to see determistic results for comparison"
   ]
  },
  {
   "cell_type": "code",
   "execution_count": null,
   "metadata": {
    "colab": {
     "base_uri": "https://localhost:8080/"
    },
    "id": "o6DwGQSbdDtj",
    "outputId": "5942fc41-fd58-4711-d19f-4357cf679e5c",
    "pycharm": {
     "name": "#%%\n"
    }
   },
   "outputs": [
    {
     "name": "stdout",
     "output_type": "stream",
     "text": [
      "上： 欢天喜地度佳节\n",
      "下： 笑语欢歌迎新春\n",
      "上： 不待鸣钟已汗颜，重来试手竟何艰\n",
      "下： 何堪击鼓频催泪?一别伤心更枉然\n",
      "上： 当年欲跃龙门去，今日真披马革还\n",
      "下： 此日当登虎榜来，他年又见龙图新\n",
      "上： 载歌在谷\n",
      "下： 对酒当歌\n",
      "上： 北国风光，千里冰封，万里雪飘\n",
      "下： 南疆气象，五湖浪涌，三江潮来\n",
      "上： 寂寞寒窗空守寡\n",
      "下： 逍遥野渡醉吟诗\n",
      "上： 烟锁池塘柳\n",
      "下： 云封岭上松\n",
      "上： 五科五状元，金木水火土\n",
      "下： 三才三进士，诗书礼乐诗\n",
      "上： 望江楼，望江流，望江楼上望江流，江楼千古，江流千古\n",
      "下： 听雨阁，听雨落，听雨阁中听雨落，雨阁万重，雨落万重\n",
      "上： 載歌在谷\n",
      "下： 對酒當歌\n",
      "上： 飛龍在天\n",
      "下： 臥虎於淵\n",
      "上： 都說臺北風光好\n",
      "下： 不曉臺灣景色新\n"
     ]
    }
   ],
   "source": [
    "# epoch 3 after 6 hours, looks good enough\n",
    "for pre in ['欢天喜地度佳节', '不待鸣钟已汗颜，重来试手竟何艰',\n",
    "            '当年欲跃龙门去，今日真披马革还', '载歌在谷',\n",
    "            '北国风光，千里冰封，万里雪飘','寂寞寒窗空守寡',\n",
    "            '烟锁池塘柳', '五科五状元，金木水火土',\n",
    "            '望江楼，望江流，望江楼上望江流，江楼千古，江流千古']:\n",
    "  couplet(pre)\n",
    "\n",
    "# Support Traditional Chinese\n",
    "for pre in ['載歌在谷', '飛龍在天', '都說臺北風光好']:\n",
    "  couplet(pre, is_input_traditional_chinese=True)"
   ]
  },
  {
   "cell_type": "code",
   "execution_count": null,
   "metadata": {
    "colab": {
     "base_uri": "https://localhost:8080/"
    },
    "id": "BArFrkpTBgX0",
    "outputId": "dbec014b-20b5-4efd-8e7c-c7670a34618d",
    "pycharm": {
     "name": "#%%\n"
    }
   },
   "outputs": [
    {
     "name": "stdout",
     "output_type": "stream",
     "text": [
      "标题： 作诗：秋思\n",
      "诗歌： 秋思不可奈，况复值新晴。露叶红犹湿，风枝翠欲倾。客愁随日薄，归夢逐云轻。独倚阑干久，西风吹雁声。\n",
      "标题： 作诗：秋思 模仿：杜甫\n",
      "诗歌： 西风动高树，落叶满空庭。白露侵肌冷，青灯照眼青。客愁随暮角，归夢逐残星。独坐还成感，秋声不可听。\n",
      "标题： 作诗：秋思 模仿：李白\n",
      "诗歌： 秋色满空山，秋风动客衣。浮云不到处，明月自来归。\n",
      "标题： 作诗：秋思 模仿：李清照\n",
      "诗歌： 秋思不可奈，况复在天涯。客路逢寒食，家书报早炊。风霜侵鬓发，天地入诗脾。欲寄南飞雁，归期未有期。\n",
      "标题： 作诗：秋思 模仿：苏轼\n",
      "诗歌： 西风吹雨过江城，独倚阑干思不胜。黄叶满庭秋意动，碧梧当户夜寒生。故园夢断人千里，新雁书来雁一行。莫怪衰翁无业，一樽聊复慰平生。\n",
      "\n",
      "标题： 作诗：百花\n",
      "诗歌： 百花开尽绿阴成，红紫妖红照眼明。谁道东风无意思，一枝春色爲谁荣。\n",
      "标题： 作诗：百花 模仿：杜甫\n",
      "诗歌： 百花开尽绿阴成，独有江梅照眼明。莫道春光无别意，只应留得一枝横。\n",
      "标题： 作诗：百花 模仿：李白\n",
      "诗歌： 百花如锦树，春色满芳洲。日暖花争发，风轻絮乱流。香飘金谷露，艳拂玉山楼。谁道无情物，年年爲客愁。\n",
      "标题： 作诗：百花 模仿：李清照\n",
      "诗歌： 百花如锦水如蓝，春到园林处处堪。谁道东风不相识，一枝开尽绿阴南。\n",
      "标题： 作诗：百花 模仿：苏轼\n",
      "诗歌： 百花开尽绿阴成，谁道春风不世情。若使此花无俗韵，世间那得有芳名。\n",
      "\n",
      "标题： 作诗：佳人有约\n",
      "诗歌： 佳人约我共登台，笑指花前酒半杯。莫道春光无分到，且看红日上楼来。\n",
      "标题： 作诗：佳人有约 模仿：杜甫\n",
      "诗歌： 佳人有约到江干，共约寻春入肺肝。红杏绿桃相映发，白苹红蓼不胜寒。花前醉舞春风裏，月下狂歌夜漏残。莫怪相逢不相识，只应清夢在长安。\n",
      "标题： 作诗：佳人有约 模仿：李白\n",
      "诗歌： 佳人有约在瑶台，花落花开不待开。莫道春风无分到，且看明月照楼台。\n",
      "标题： 作诗：佳人有约 模仿：李清照\n",
      "诗歌： 佳人约我共登台，花下相携醉不回。莫道春归无觅处，桃花依旧笑人来。\n",
      "标题： 作诗：佳人有约 模仿：苏轼\n",
      "诗歌： 佳人约我共清欢，笑指花前醉玉盘。莫道春归无觅处，且看红日上栏干。\n",
      "\n",
      "標題： 作诗：春节\n",
      "詩歌： 去年今日到江干，家在青山綠水間。老去心情渾似舊，春來情緒只如閒。\n",
      "標題： 作诗：春节 模仿：杜甫\n",
      "詩歌： 江上春歸早，山中客到稀。亂花隨處發，細草向人飛。節物催年老，生涯逐日非。故園桃李樹，猶得及芳菲。\n",
      "標題： 作诗：春节 模仿：李白\n",
      "詩歌： 去年今日來，花發滿城開。今歲明朝去，明年依舊來。\n",
      "標題： 作诗：春节 模仿：李清照\n",
      "詩歌： 去年今日是今朝，不覺今年又一宵。但有梅花堪共醉，何須柳絮更相撩。\n",
      "標題： 作诗：春节 模仿：苏轼\n",
      "詩歌： 今年春色到江干，柳眼桃腮次第看。但得此身長健在，不須回首歎凋殘。\n",
      "\n",
      "標題： 作诗：中秋\n",
      "詩歌： 秋氣侵肌骨，寒光入鬢毛。雲收千里月，風送一帆高。\n",
      "標題： 作诗：中秋 模仿：杜甫\n",
      "詩歌： 秋色滿江天，清光萬里懸。雲開見海月，水落見沙田。白露侵肌冷，青苔滿鬢鮮。何當一樽酒，共醉玉壺前。\n",
      "標題： 作诗：中秋 模仿：李白\n",
      "詩歌： 中秋月色好，況復是中秋。玉兔擣藥杵，金烏搗藥。雲開天似水，風起海如漚。此夜何人見，長歌淚不流。\n",
      "標題： 作诗：中秋 模仿：李清照\n",
      "詩歌： 秋氣侵肌骨，寒光入鬢毛。客愁隨日減，詩思逐風高。露重衣襟溼，天高雁影豪。何當一樽酒，來此醉陶陶。\n",
      "標題： 作诗：中秋 模仿：苏轼\n",
      "詩歌： 月從海上生，照我庭下影。不知此何夕，但見天宇靜。\n",
      "\n"
     ]
    }
   ],
   "source": [
    "for title in ['秋思', \"百花\", '佳人有约']:\n",
    "  # Empty author means general style\n",
    "  for author in ['', \"杜甫\", \"李白\", \"李清照\", \"苏轼\"]:\n",
    "    poem(title, author)\n",
    "  print()\n",
    "\n",
    "for title in ['春節', \"中秋\"]:\n",
    "  # Empty author means general style\n",
    "  for author in ['', \"杜甫\", \"李白\", \"李清照\", \"蘇軾\"]:\n",
    "    poem(title, author, is_input_traditional_chinese=True)\n",
    "  print()"
   ]
  }
 ],
 "metadata": {
  "accelerator": "GPU",
  "colab": {
   "authorship_tag": "ABX9TyPPWSNPlZi9PVivVNJfp8C8",
   "collapsed_sections": [],
   "include_colab_link": true,
   "name": "Inference T5 Finetune Chinese Couplet/Poem V1 02/2022",
   "provenance": []
  },
  "kernelspec": {
   "display_name": "Python 3 (ipykernel)",
   "language": "python",
   "name": "python3"
  },
  "language_info": {
   "codemirror_mode": {
    "name": "ipython",
    "version": 3
   },
   "file_extension": ".py",
   "mimetype": "text/x-python",
   "name": "python",
   "nbconvert_exporter": "python",
   "pygments_lexer": "ipython3",
   "version": "3.9.12"
  }
 },
 "nbformat": 4,
 "nbformat_minor": 1
}