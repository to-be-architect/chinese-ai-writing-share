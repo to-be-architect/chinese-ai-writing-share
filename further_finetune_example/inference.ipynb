{
 "cells": [
  {
   "cell_type": "markdown",
   "metadata": {
    "id": "view-in-github",
    "colab_type": "text",
    "pycharm": {
     "name": "#%% md\n"
    }
   },
   "source": [
    "<a href=\"https://colab.research.google.com/github/hululuzhu/chinese-ai-writing-share/blob/main/further_finetune_example/inference.ipynb\" target=\"_parent\"><img src=\"https://colab.research.google.com/assets/colab-badge.svg\" alt=\"Open In Colab\"/></a>"
   ]
  },
  {
   "cell_type": "markdown",
   "metadata": {
    "id": "IsQADAHEdrEH",
    "pycharm": {
     "name": "#%% md\n"
    }
   },
   "source": [
    "# Inference for T5 model that mimics Li's style\n",
    "- Download my saved models at Drive\n",
    "  - [General Version](https://drive.google.com/drive/folders/1ZymaSbOcwlslD5tuUIk_9__C2dUJK_UY?usp=sharingY) and [ericqianli's mimic version](https://drive.google.com/drive/folders/10YyRO3-8MLVziqme1wnpqN5RPyDRuLa-?usp=sharing)\n",
    "  - 重要：以上文件都存在Google Drive，推荐用Google账号打开，点击`Add to shortcut`，之后在你Drive的主页面`shared with me`看到目录后选择`add shortcut to Drive`，这样可以mount后本地可以操作文件，但要注意路径一致"
   ]
  },
  {
   "cell_type": "markdown",
   "metadata": {
    "id": "i_0LZLuCd0XX",
    "pycharm": {
     "name": "#%% md\n"
    }
   },
   "source": [
    "## Load package and previously trained models"
   ]
  },
  {
   "cell_type": "code",
   "execution_count": 3,
   "metadata": {
    "id": "5mNUEaT_bzWu",
    "pycharm": {
     "name": "#%%\n"
    }
   },
   "outputs": [],
   "source": [
    "# Quite install simple T5 package\n",
    "!pip install -q simplet5\n",
    "!pip install -q chinese-converter\n",
    "import chinese_converter  # 繁体到简体需要"
   ]
  },
  {
   "cell_type": "code",
   "execution_count": null,
   "metadata": {
    "colab": {
     "base_uri": "https://localhost:8080/"
    },
    "id": "5rH9CaTNb-Hg",
    "outputId": "c7514b5f-a13c-40a2-a384-c05f8f46db90",
    "pycharm": {
     "name": "#%%\n"
    }
   },
   "outputs": [
    {
     "output_type": "stream",
     "name": "stdout",
     "text": [
      "Mounted at /content/drive\n"
     ]
    }
   ],
   "source": [
    "from google.colab import drive\n",
    "drive.mount('/content/drive')"
   ]
  },
  {
   "cell_type": "code",
   "source": [
    "!ls /content/drive/MyDrive/ML/Models/t5-poem-li-2022branch/simplet5-epoch-5-train-loss-0.3138-val-loss-0.4084\n",
    "!ls /content/drive/MyDrive/ML/Models/t5-poem/simplet5-epoch-3-train-loss-3.597/*"
   ],
   "metadata": {
    "colab": {
     "base_uri": "https://localhost:8080/"
    },
    "id": "EmSYpGSw7yWS",
    "outputId": "b02c5465-f27f-4eaf-bc3d-45a47651033e",
    "pycharm": {
     "name": "#%%\n"
    }
   },
   "execution_count": null,
   "outputs": [
    {
     "output_type": "stream",
     "name": "stdout",
     "text": [
      "config.json\t   special_tokens_map.json  tokenizer_config.json\n",
      "pytorch_model.bin  spiece.model\n",
      "/content/drive/MyDrive/ML/Models/t5-poem/simplet5-epoch-3-train-loss-3.597/config.json\n",
      "/content/drive/MyDrive/ML/Models/t5-poem/simplet5-epoch-3-train-loss-3.597/inference_mengzi_t5_poem_model.ipynb\n",
      "/content/drive/MyDrive/ML/Models/t5-poem/simplet5-epoch-3-train-loss-3.597/pytorch_model.bin\n",
      "/content/drive/MyDrive/ML/Models/t5-poem/simplet5-epoch-3-train-loss-3.597/special_tokens_map.json\n",
      "/content/drive/MyDrive/ML/Models/t5-poem/simplet5-epoch-3-train-loss-3.597/spiece.model\n",
      "/content/drive/MyDrive/ML/Models/t5-poem/simplet5-epoch-3-train-loss-3.597/tokenizer_config.json\n"
     ]
    }
   ]
  },
  {
   "cell_type": "code",
   "execution_count": null,
   "metadata": {
    "id": "fsQmKxtMcDof",
    "pycharm": {
     "name": "#%%\n"
    }
   },
   "outputs": [],
   "source": [
    "!mkdir -p my_t5/poem/li\n",
    "!mkdir -p my_t5/poem/other\n",
    "# 6 epochs, 10min hours P100 16G\n",
    "!cp /content/drive/MyDrive/ML/Models/t5-poem-li-2022branch/simplet5-epoch-5-train-loss-0.3138-val-loss-0.4084/* my_t5/poem/li\n",
    "!cp /content/drive/MyDrive/ML/Models/t5-poem/simplet5-epoch-3-train-loss-3.597/* my_t5/poem/other"
   ]
  },
  {
   "cell_type": "code",
   "execution_count": null,
   "metadata": {
    "colab": {
     "base_uri": "https://localhost:8080/"
    },
    "id": "fVcInEjtccR1",
    "outputId": "4bb3e437-1049-49d9-dfbf-0e1a3650eb32",
    "pycharm": {
     "name": "#%%\n"
    }
   },
   "outputs": [
    {
     "output_type": "stream",
     "name": "stderr",
     "text": [
      "Global seed set to 42\n"
     ]
    }
   ],
   "source": [
    "import torch\n",
    "from simplet5 import SimpleT5\n",
    "from transformers import T5Tokenizer, T5ForConditionalGeneration\n",
    "\n",
    "class MengziSimpleT5(SimpleT5):\n",
    "  def __init__(self) -> None:\n",
    "    super().__init__()\n",
    "    self.device = torch.device(\"cuda\")\n",
    "\n",
    "  def load_my_model(self, local_path, use_gpu: bool = True):\n",
    "    self.tokenizer = T5Tokenizer.from_pretrained(\"Langboat/mengzi-t5-base\")\n",
    "    self.model = T5ForConditionalGeneration.from_pretrained(local_path)"
   ]
  },
  {
   "cell_type": "code",
   "execution_count": null,
   "metadata": {
    "id": "5fhJdzoWBip2",
    "pycharm": {
     "name": "#%%\n"
    }
   },
   "outputs": [],
   "source": [
    "AUTHOR_PROMPT = \"模仿：\"\n",
    "TITLE_PROMPT = \"作诗：\"\n",
    "EOS_TOKEN = '</s>'\n",
    "\n",
    "general_poem_model = MengziSimpleT5()\n",
    "general_poem_model.load_my_model(local_path='my_t5/poem/other')\n",
    "general_poem_model.model = general_poem_model.model.to('cuda')\n",
    "\n",
    "li_poem_model = MengziSimpleT5()\n",
    "li_poem_model.load_my_model(local_path='my_t5/poem/li')\n",
    "li_poem_model.model = li_poem_model.model.to('cuda')\n",
    "\n",
    "MAX_AUTHOR_CHAR = 4\n",
    "MAX_TITLE_CHAR = 12\n",
    "MIN_CONTENT_CHAR = 10\n",
    "MAX_CONTENT_CHAR = 64\n",
    "\n",
    "def poem(title_str, opt_author=None, is_input_traditional_chinese=False):\n",
    "  model = li_poem_model if opt_author == '钱力' else general_poem_model\n",
    "  model.model = model.model.to('cuda')\n",
    "  if opt_author:\n",
    "    in_request = TITLE_PROMPT + title_str[:MAX_TITLE_CHAR] + EOS_TOKEN + AUTHOR_PROMPT + opt_author[:MAX_AUTHOR_CHAR]\n",
    "  else:\n",
    "    in_request = TITLE_PROMPT + title_str[:MAX_TITLE_CHAR]\n",
    "  if is_input_traditional_chinese:\n",
    "    in_request = chinese_converter.to_simplified(in_request)\n",
    "  out = model.predict(in_request,\n",
    "                      max_length=MAX_CONTENT_CHAR)[0].replace(\",\", \"，\")\n",
    "  if is_input_traditional_chinese:\n",
    "    out = chinese_converter.to_traditional(out)\n",
    "    print(f\"標題： {in_request.replace('</s>', ' ')}\\n詩歌： {out}\")\n",
    "  else:\n",
    "    print(f\"标题： {in_request.replace('</s>', ' ')}\\n诗歌： {out}\")"
   ]
  },
  {
   "cell_type": "markdown",
   "metadata": {
    "id": "fYLkzlt4d4DM",
    "pycharm": {
     "name": "#%% md\n"
    }
   },
   "source": [
    "## Inference now"
   ]
  },
  {
   "cell_type": "code",
   "execution_count": null,
   "metadata": {
    "colab": {
     "base_uri": "https://localhost:8080/"
    },
    "id": "BArFrkpTBgX0",
    "outputId": "02863a43-997d-4ce6-91a0-a3f38aadfa2d",
    "pycharm": {
     "name": "#%%\n"
    }
   },
   "outputs": [
    {
     "output_type": "stream",
     "name": "stdout",
     "text": [
      "标题： 作诗：秋\n",
      "诗歌： 西风吹雨过前溪，篱落萧条菊未齐。黄叶满庭秋色老，碧云无路客愁低。\n",
      "标题： 作诗：秋 模仿：杜甫\n",
      "诗歌： 西风动高树，落日满长空。白露沾衣湿，黄花带叶红。客愁随暮角，归思逐秋风。未有还家夢，沧浪一钓翁。\n",
      "标题： 作诗：秋 模仿：李白\n",
      "诗歌： 秋色满西楼，凉风动客愁。雁来天北去，人去水东流。白露沾衣冷，黄花入鬓秋。何当一樽酒，相与醉高楼。\n",
      "标题： 作诗：秋 模仿：李清照\n",
      "诗歌： 西风吹雨过江城，客子愁多酒易醒。黄叶满庭秋色老，碧云无路夕阳青。\n",
      "标题： 作诗：秋 模仿：苏轼\n",
      "诗歌： 西风吹雨过江城，黄叶萧萧满院声。秋色已随人意老，客愁还共酒杯清。\n",
      "标题： 作诗：秋 模仿：钱力\n",
      "诗歌： 玉管金弦风流罢，奈落烟宵不尽愁。闲来总惹碧山夢，云外苍天化外秋。\n",
      "\n",
      "标题： 作诗：百花\n",
      "诗歌： 百花开尽绿阴成，红紫妖红照眼明。谁道东风无意思，一枝春色爲谁荣。\n",
      "标题： 作诗：百花 模仿：杜甫\n",
      "诗歌： 百花开尽绿阴成，独有江梅照眼明。莫道春光无别意，只应留得一枝横。\n",
      "标题： 作诗：百花 模仿：李白\n",
      "诗歌： 百花如锦树，春色满芳洲。日暖花争发，风轻絮乱流。香飘金谷露，艳拂玉山楼。谁道无情物，年年爲客愁。\n",
      "标题： 作诗：百花 模仿：李清照\n",
      "诗歌： 百花如锦水如蓝，春到园林处处堪。谁道东风不相识，一枝开尽绿阴南。\n",
      "标题： 作诗：百花 模仿：苏轼\n",
      "诗歌： 百花开尽绿阴成，谁道春风不世情。若使此花无俗韵，世间那得有芳名。\n",
      "标题： 作诗：百花 模仿：钱力\n",
      "诗歌： 谁将碧血染春山，幻作芳春烂漫看。无奈东风相逐去，落英狼借到天寒。\n",
      "\n",
      "标题： 作诗：佳人有约\n",
      "诗歌： 佳人约我共登台，笑指花前酒半杯。莫道春光无分到，且看红日上楼来。\n",
      "标题： 作诗：佳人有约 模仿：杜甫\n",
      "诗歌： 佳人有约到江干，共约寻春入肺肝。红杏绿桃相映发，白苹红蓼不胜寒。花前醉舞春风裏，月下狂歌夜漏残。莫怪相逢不相识，只应清夢在长安。\n",
      "标题： 作诗：佳人有约 模仿：李白\n",
      "诗歌： 佳人有约在瑶台，花落花开不待开。莫道春风无分到，且看明月照楼台。\n",
      "标题： 作诗：佳人有约 模仿：李清照\n",
      "诗歌： 佳人约我共登台，花下相携醉不回。莫道春归无觅处，桃花依旧笑人来。\n",
      "标题： 作诗：佳人有约 模仿：苏轼\n",
      "诗歌： 佳人约我共清欢，笑指花前醉玉盘。莫道春归无觅处，且看红日上栏干。\n",
      "标题： 作诗：佳人有约 模仿：钱力\n",
      "诗歌： 佳期无约久，春去复年年。云重书难寄，天高月易圆。有期乘鹤去，无约到鸥眠。莫道仙凡隔，清愁正可仙。\n",
      "\n",
      "标题： 作诗：中秋\n",
      "诗歌： 秋气侵肌骨，寒光入鬓毛。云收千里月，风送一帆高。\n",
      "标题： 作诗：中秋 模仿：杜甫\n",
      "诗歌： 秋色满江天，清光万里悬。云开见海月，水落见沙田。白露侵肌冷，青苔满鬓鲜。何当一樽酒，共醉玉壶前。\n",
      "标题： 作诗：中秋 模仿：李白\n",
      "诗歌： 中秋月色好，况复是中秋。玉兔捣药杵，金乌捣药。云开天似水，风起海如沤。此夜何人见，长歌泪不流。\n",
      "标题： 作诗：中秋 模仿：李清照\n",
      "诗歌： 秋气侵肌骨，寒光入鬓毛。客愁随日减，诗思逐风高。露重衣襟湿，天高雁影豪。何当一樽酒，来此醉陶陶。\n",
      "标题： 作诗：中秋 模仿：苏轼\n",
      "诗歌： 月从海上生，照我庭下影。不知此何夕，但见天宇静。\n",
      "标题： 作诗：中秋 模仿：钱力\n",
      "诗歌： 人前笑态自时无，独立中秋对望舒。一世浮名沽翰墨，三更幽夢赴当初。不觉故人成远客，轻闻桂子抚兰裾。青空欲去谁与老，去日浮云去日书。\n",
      "\n",
      "标题： 作诗：抚琴一首\n",
      "诗歌： 抚琴不须弹，听之莫如弦。我今亦何有，但欲求其天。\n",
      "标题： 作诗：抚琴一首 模仿：杜甫\n",
      "诗歌： 抚琴不复弹，此意谁与论。古来贤达士，今爲古人门。我昔未识面，但见耳目存。岂知抱关者，独抱经世冤。\n",
      "标题： 作诗：抚琴一首 模仿：李白\n",
      "诗歌： 抚琴不须弹，听琴莫如弦。我今亦何有，但欲写我篇。\n",
      "标题： 作诗：抚琴一首 模仿：李清照\n",
      "诗歌： 抚琴不须弹，听之莫如弦。我今亦何有，但欲求自然。\n",
      "标题： 作诗：抚琴一首 模仿：苏轼\n",
      "诗歌： 吾闻古乐天，妙处不在弦。我观古人心，不与常人言。今人尚何有，抚琴聊自存。岂惟知此意，但欲识其源。\n",
      "标题： 作诗：抚琴一首 模仿：钱力\n",
      "诗歌： 偷闲逾半夏，入夜竟徘徊。三叠思一响，七弦恨满埃。袪忧犹肃轸，养正且澄怀。掩按心潮起，如听碧海来。\n",
      "\n"
     ]
    }
   ],
   "source": [
    "for title in ['秋', \"百花\", '佳人有约', \"中秋\", \"抚琴一首\"]:\n",
    "  # Empty author means general style\n",
    "  for author in [\"\", \"杜甫\", \"李白\", \"李清照\", \"苏轼\", \"钱力\"]:\n",
    "    poem(title, author)\n",
    "  print()"
   ]
  }
 ],
 "metadata": {
  "accelerator": "GPU",
  "colab": {
   "collapsed_sections": [],
   "name": "T5 Finetune Chinese Poem for Li V1.1  06/2022",
   "provenance": [],
   "include_colab_link": true
  },
  "kernelspec": {
   "display_name": "Python 3",
   "name": "python3"
  },
  "language_info": {
   "name": "python"
  }
 },
 "nbformat": 4,
 "nbformat_minor": 0
}